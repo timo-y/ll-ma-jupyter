{
 "cells": [
  {
   "cell_type": "code",
   "execution_count": 1,
   "id": "632c6238",
   "metadata": {},
   "outputs": [],
   "source": [
    "# Filenames\n",
    "import os\n",
    "# Regex\n",
    "import re\n",
    "# Math\n",
    "import numpy as np\n",
    "# Plotting\n",
    "import matplotlib\n",
    "import matplotlib.pyplot as plt\n",
    "# Dataframes\n",
    "import pandas as pd\n",
    "# Tokenize language\n",
    "import nltk"
   ]
  },
  {
   "cell_type": "code",
   "execution_count": 2,
   "id": "491ad7c8",
   "metadata": {},
   "outputs": [],
   "source": [
    "filter_words = [\n",
    "    \"Täter\", \"Täterin\",\n",
    "    \"Opfer\",\n",
    "    \"Held\", \"Heldin\", \"Helden\",\n",
    "    \"Helfen\", \"geholfen\",\n",
    "    \"Ikone\",\n",
    "    \"Widerstand\",\n",
    "    \"Licht\",\n",
    "    \"Dunkel\",\n",
    "    \"Oma\", \"Großmutter\", \"Urgroßmutter\",\n",
    "    \"Opa\", \"Großvater\", \"Urgroßvater\",\n",
    "    \"Großeltern\",\n",
    "    \"Identität\",\n",
    "    \"Erinnerungskultur\",\n",
    "    \"Trauma\", \"traumatisch\"\n",
    "]\n"
   ]
  },
  {
   "cell_type": "code",
   "execution_count": 3,
   "id": "86e9a80a",
   "metadata": {},
   "outputs": [],
   "source": [
    "# Get the list of all files and directories\n",
    "path = \"comments\"\n",
    "dir_list = os.listdir(path)"
   ]
  },
  {
   "cell_type": "code",
   "execution_count": 4,
   "id": "1ca045d0",
   "metadata": {},
   "outputs": [
    {
     "name": "stdout",
     "output_type": "stream",
     "text": [
      "401\n"
     ]
    }
   ],
   "source": [
    "dfs = []\n",
    "for filename in dir_list:\n",
    "    if filename.startswith(\"comments\"):\n",
    "        df=pd.read_csv(f\"comments/{filename}\", delimiter=\";\",header=1)\n",
    "        link_df=pd.read_csv(f\"comments/{filename}\", delimiter=\";\",header=0)\n",
    "        link = list(link_df.columns.values)[-1]\n",
    "        df[\"Link\"]=link\n",
    "        df[\"Filename\"]=filename\n",
    "        dfs.append(df)\n",
    "print(len(dfs))"
   ]
  },
  {
   "cell_type": "code",
   "execution_count": 5,
   "id": "d48312f2",
   "metadata": {},
   "outputs": [],
   "source": [
    "all_comments_df = pd.concat(dfs, axis=0)\n",
    "num_all_comments = len(all_comments_df)"
   ]
  },
  {
   "cell_type": "code",
   "execution_count": 6,
   "id": "8b2414bf",
   "metadata": {},
   "outputs": [],
   "source": [
    "for filter_word in filter_words:\n",
    "    filtered_comments_df = all_comments_df[all_comments_df.Comment.str.contains(filter_word, na=False, case=False)]\n",
    "    num_filtered_comments = len(filtered_comments_df)\n",
    "    # Write Stats\n",
    "    with open(f'output/stats_for_word_{filter_word}.txt', 'w') as f:\n",
    "        f.write(f'Stats for Word \"{filter_word}\"\\n\\n')\n",
    "        f.write(f'Total number of comments: {num_all_comments}\\n')\n",
    "        f.write(f'Number of comments containing \"{filter_word}\": {num_filtered_comments}\\n')\n",
    "        f.write(f'Ratio: {num_filtered_comments/num_all_comments}\\n')\n",
    "        f.write(f'Percent: {np.round(num_filtered_comments/num_all_comments*100, 3)}%')\n",
    "    # Write Data\n",
    "    filtered_comments_df.to_csv(f\"output/all_comments_containing_{filter_word}.csv\")"
   ]
  },
  {
   "cell_type": "code",
   "execution_count": null,
   "id": "fd736926",
   "metadata": {},
   "outputs": [],
   "source": []
  }
 ],
 "metadata": {
  "kernelspec": {
   "display_name": "Python 3 (ipykernel)",
   "language": "python",
   "name": "python3"
  },
  "language_info": {
   "codemirror_mode": {
    "name": "ipython",
    "version": 3
   },
   "file_extension": ".py",
   "mimetype": "text/x-python",
   "name": "python",
   "nbconvert_exporter": "python",
   "pygments_lexer": "ipython3",
   "version": "3.10.5"
  }
 },
 "nbformat": 4,
 "nbformat_minor": 5
}
